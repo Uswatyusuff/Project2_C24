{
  "cells": [
    {
      "cell_type": "markdown",
      "metadata": {
        "id": "view-in-github",
        "colab_type": "text"
      },
      "source": [
        "<a href=\"https://colab.research.google.com/github/Uswatyusuff/Project2_C24/blob/main/Yolo_Model.ipynb\" target=\"_parent\"><img src=\"https://colab.research.google.com/assets/colab-badge.svg\" alt=\"Open In Colab\"/></a>"
      ]
    },
    {
      "cell_type": "code",
      "source": [
        "# Step 1: Install YOLOv8 (Ultralytics)\n",
        "!pip install ultralytics\n",
        "\n",
        "# Step 2: Import necessary libraries\n",
        "import glob\n",
        "import cv2\n",
        "import os\n",
        "from google.colab import drive\n",
        "from ultralytics import YOLO\n",
        "from google.colab.patches import cv2_imshow"
      ],
      "metadata": {
        "id": "r1xeLM5fm9Db"
      },
      "execution_count": null,
      "outputs": []
    },
    {
      "cell_type": "code",
      "source": [
        "# Step 4: Set Paths (Replace 'YourFolder' with actual folder name)\n",
        "image_folder_path = \"/content/drive/MyDrive/Head Counting/Images_Giraffe\"  # Folder with images\n",
        "save_path = \"/content/drive/MyDrive/Head Counting/head_count_results.txt\"  # Output folder\n",
        "\n",
        "# Create results folder if it doesn't exist\n",
        "os.makedirs(save_path, exist_ok=True)"
      ],
      "metadata": {
        "id": "5fB14g7Bm9GF"
      },
      "execution_count": null,
      "outputs": []
    },
    {
      "cell_type": "code",
      "execution_count": null,
      "metadata": {
        "colab": {
          "base_uri": "https://localhost:8080/"
        },
        "id": "p55jAcilTOt-",
        "outputId": "5fea4dc2-12d0-4da0-f30d-055ff149e5d0"
      },
      "outputs": [
        {
          "output_type": "stream",
          "name": "stdout",
          "text": [
            "Downloading https://github.com/ultralytics/assets/releases/download/v8.3.0/yolov8l.pt to 'yolov8l.pt'...\n"
          ]
        },
        {
          "output_type": "stream",
          "name": "stderr",
          "text": [
            "100%|██████████| 83.7M/83.7M [00:01<00:00, 83.7MB/s]\n"
          ]
        },
        {
          "output_type": "stream",
          "name": "stdout",
          "text": [
            "✅ Head counting completed! Results saved in: /content/drive/MyDrive/Head Counting/head_count_results.txt\n"
          ]
        }
      ],
      "source": [
        "# Step 5: Load Pre-trained YOLOv8 Model\n",
        "model = YOLO(\"yolov8l.pt\") # Using YOLOv8x (extra-large model for best accuracy)\n",
        "\n",
        "# Step 6: Get All Image Files\n",
        "image_files = glob.glob(image_folder_path + \"/*.jpg\")  # Change to .png if needed\n",
        "\n",
        "# Step 7: Run YOLOv8 on Each Image, Count Heads, and Save Results\n",
        "for image_file in image_files:\n",
        "    results = model(image_file)  # Run head detection\n",
        "\n",
        "    # Extract detected objects (heads)\n",
        "    detections = results[0].boxes  # Get bounding boxes\n",
        "\n",
        "    # Count number of detected heads\n",
        "    head_count = len(detections)\n",
        "\n",
        "    # Save annotated image\n",
        "    output_filename = save_path + os.path.basename(image_file)  # Keep original filename\n",
        "    results[0].save(filename=output_filename)\n",
        "\n",
        "    # Show image with detections\n",
        "    print(f\"🟢 Image: {os.path.basename(image_file)} - Detected Heads: {head_count}\")\n",
        "    cv2_imshow(cv2.imread(output_filename))\n",
        "\n",
        "print(\"✅ Head counting completed! Results saved in:\", save_path)\n"
      ]
    }
  ],
  "metadata": {
    "colab": {
      "provenance": [],
      "machine_shape": "hm",
      "gpuType": "A100",
      "mount_file_id": "1cF_9HCWoiCw98ghPeaqrt5HPjiI7UYdw",
      "authorship_tag": "ABX9TyP4UzKkjGv1MRQObNy/kGyg",
      "include_colab_link": true
    },
    "kernelspec": {
      "display_name": "Python 3",
      "name": "python3"
    },
    "language_info": {
      "name": "python"
    },
    "accelerator": "GPU"
  },
  "nbformat": 4,
  "nbformat_minor": 0
}